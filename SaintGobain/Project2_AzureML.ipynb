{
 "cells": [
  {
   "cell_type": "code",
   "execution_count": 1,
   "id": "aad02f08",
   "metadata": {},
   "outputs": [],
   "source": [
    "# Project 2: Sales Prediction with Random Forest\n",
    "# You’ll use the engineered lag and rolling features to predict future sales using a RandomForestRegressor."
   ]
  },
  {
   "cell_type": "code",
   "execution_count": null,
   "id": "aeb0a432",
   "metadata": {},
   "outputs": [],
   "source": []
  }
 ],
 "metadata": {
  "kernelspec": {
   "display_name": "Python 3",
   "language": "python",
   "name": "python3"
  },
  "language_info": {
   "codemirror_mode": {
    "name": "ipython",
    "version": 3
   },
   "file_extension": ".py",
   "mimetype": "text/x-python",
   "name": "python",
   "nbconvert_exporter": "python",
   "pygments_lexer": "ipython3",
   "version": "3.12.0"
  }
 },
 "nbformat": 4,
 "nbformat_minor": 5
}
